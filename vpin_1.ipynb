{
 "cells": [
  {
   "cell_type": "code",
   "execution_count": 2,
   "metadata": {},
   "outputs": [],
   "source": [
    "import pandas as pd\n",
    "from math import *\n",
    "import math\n",
    "import numpy as np\n",
    "import matplotlib.pyplot as plt\n",
    "import datetime\n",
    "import time\n",
    "from tqdm import tqdm_notebook as tqdm\n",
    "from sklearn.model_selection import train_test_split # 데이터 나누기\n",
    "from sklearn.neighbors import KNeighborsClassifier\n",
    "from sklearn.tree import DecisionTreeClassifier\n",
    "from sklearn.linear_model import LogisticRegression\n",
    "from sklearn.svm import LinearSVC\n",
    "from sklearn.model_selection import cross_val_score\n",
    "from sklearn.linear_model import LinearRegression\n",
    "from sklearn.model_selection import cross_val_score # 교차검증 라이브러리\n",
    "from sklearn.model_selection import train_test_split\n",
    "from sklearn.linear_model import SGDRegressor"
   ]
  },
  {
   "cell_type": "code",
   "execution_count": 3,
   "metadata": {
    "scrolled": false
   },
   "outputs": [
    {
     "data": {
      "text/html": [
       "<div>\n",
       "<style scoped>\n",
       "    .dataframe tbody tr th:only-of-type {\n",
       "        vertical-align: middle;\n",
       "    }\n",
       "\n",
       "    .dataframe tbody tr th {\n",
       "        vertical-align: top;\n",
       "    }\n",
       "\n",
       "    .dataframe thead th {\n",
       "        text-align: right;\n",
       "    }\n",
       "</style>\n",
       "<table border=\"1\" class=\"dataframe\">\n",
       "  <thead>\n",
       "    <tr style=\"text-align: right;\">\n",
       "      <th></th>\n",
       "      <th>0</th>\n",
       "      <th>1</th>\n",
       "    </tr>\n",
       "  </thead>\n",
       "  <tbody>\n",
       "    <tr>\n",
       "      <th>0</th>\n",
       "      <td>487000</td>\n",
       "      <td>-16</td>\n",
       "    </tr>\n",
       "    <tr>\n",
       "      <th>1</th>\n",
       "      <td>487000</td>\n",
       "      <td>-16</td>\n",
       "    </tr>\n",
       "    <tr>\n",
       "      <th>2</th>\n",
       "      <td>487000</td>\n",
       "      <td>-16</td>\n",
       "    </tr>\n",
       "    <tr>\n",
       "      <th>3</th>\n",
       "      <td>487000</td>\n",
       "      <td>-107</td>\n",
       "    </tr>\n",
       "    <tr>\n",
       "      <th>4</th>\n",
       "      <td>487000</td>\n",
       "      <td>-107</td>\n",
       "    </tr>\n",
       "    <tr>\n",
       "      <th>5</th>\n",
       "      <td>487000</td>\n",
       "      <td>-6</td>\n",
       "    </tr>\n",
       "    <tr>\n",
       "      <th>6</th>\n",
       "      <td>487000</td>\n",
       "      <td>-6</td>\n",
       "    </tr>\n",
       "    <tr>\n",
       "      <th>7</th>\n",
       "      <td>487000</td>\n",
       "      <td>-2</td>\n",
       "    </tr>\n",
       "    <tr>\n",
       "      <th>8</th>\n",
       "      <td>487000</td>\n",
       "      <td>-2</td>\n",
       "    </tr>\n",
       "    <tr>\n",
       "      <th>9</th>\n",
       "      <td>487000</td>\n",
       "      <td>-6</td>\n",
       "    </tr>\n",
       "    <tr>\n",
       "      <th>10</th>\n",
       "      <td>487000</td>\n",
       "      <td>-6</td>\n",
       "    </tr>\n",
       "    <tr>\n",
       "      <th>11</th>\n",
       "      <td>487000</td>\n",
       "      <td>-3</td>\n",
       "    </tr>\n",
       "    <tr>\n",
       "      <th>12</th>\n",
       "      <td>487000</td>\n",
       "      <td>-3</td>\n",
       "    </tr>\n",
       "    <tr>\n",
       "      <th>13</th>\n",
       "      <td>487000</td>\n",
       "      <td>-170</td>\n",
       "    </tr>\n",
       "    <tr>\n",
       "      <th>14</th>\n",
       "      <td>487000</td>\n",
       "      <td>-170</td>\n",
       "    </tr>\n",
       "    <tr>\n",
       "      <th>15</th>\n",
       "      <td>487000</td>\n",
       "      <td>-2</td>\n",
       "    </tr>\n",
       "    <tr>\n",
       "      <th>16</th>\n",
       "      <td>487000</td>\n",
       "      <td>-2</td>\n",
       "    </tr>\n",
       "    <tr>\n",
       "      <th>17</th>\n",
       "      <td>487000</td>\n",
       "      <td>1</td>\n",
       "    </tr>\n",
       "    <tr>\n",
       "      <th>18</th>\n",
       "      <td>487000</td>\n",
       "      <td>1</td>\n",
       "    </tr>\n",
       "    <tr>\n",
       "      <th>19</th>\n",
       "      <td>487000</td>\n",
       "      <td>1</td>\n",
       "    </tr>\n",
       "    <tr>\n",
       "      <th>20</th>\n",
       "      <td>487000</td>\n",
       "      <td>1</td>\n",
       "    </tr>\n",
       "    <tr>\n",
       "      <th>21</th>\n",
       "      <td>487000</td>\n",
       "      <td>16</td>\n",
       "    </tr>\n",
       "    <tr>\n",
       "      <th>22</th>\n",
       "      <td>487000</td>\n",
       "      <td>16</td>\n",
       "    </tr>\n",
       "    <tr>\n",
       "      <th>23</th>\n",
       "      <td>487000</td>\n",
       "      <td>1</td>\n",
       "    </tr>\n",
       "    <tr>\n",
       "      <th>24</th>\n",
       "      <td>487000</td>\n",
       "      <td>1</td>\n",
       "    </tr>\n",
       "    <tr>\n",
       "      <th>25</th>\n",
       "      <td>487000</td>\n",
       "      <td>1</td>\n",
       "    </tr>\n",
       "    <tr>\n",
       "      <th>26</th>\n",
       "      <td>487000</td>\n",
       "      <td>1</td>\n",
       "    </tr>\n",
       "    <tr>\n",
       "      <th>27</th>\n",
       "      <td>487000</td>\n",
       "      <td>1</td>\n",
       "    </tr>\n",
       "    <tr>\n",
       "      <th>28</th>\n",
       "      <td>487000</td>\n",
       "      <td>1</td>\n",
       "    </tr>\n",
       "    <tr>\n",
       "      <th>29</th>\n",
       "      <td>487000</td>\n",
       "      <td>10</td>\n",
       "    </tr>\n",
       "    <tr>\n",
       "      <th>...</th>\n",
       "      <td>...</td>\n",
       "      <td>...</td>\n",
       "    </tr>\n",
       "    <tr>\n",
       "      <th>22315</th>\n",
       "      <td>484500</td>\n",
       "      <td>-50</td>\n",
       "    </tr>\n",
       "    <tr>\n",
       "      <th>22316</th>\n",
       "      <td>484500</td>\n",
       "      <td>-10</td>\n",
       "    </tr>\n",
       "    <tr>\n",
       "      <th>22317</th>\n",
       "      <td>484500</td>\n",
       "      <td>-10</td>\n",
       "    </tr>\n",
       "    <tr>\n",
       "      <th>22318</th>\n",
       "      <td>484500</td>\n",
       "      <td>-21</td>\n",
       "    </tr>\n",
       "    <tr>\n",
       "      <th>22319</th>\n",
       "      <td>484500</td>\n",
       "      <td>-21</td>\n",
       "    </tr>\n",
       "    <tr>\n",
       "      <th>22320</th>\n",
       "      <td>485000</td>\n",
       "      <td>5</td>\n",
       "    </tr>\n",
       "    <tr>\n",
       "      <th>22321</th>\n",
       "      <td>485000</td>\n",
       "      <td>5</td>\n",
       "    </tr>\n",
       "    <tr>\n",
       "      <th>22322</th>\n",
       "      <td>484500</td>\n",
       "      <td>-10</td>\n",
       "    </tr>\n",
       "    <tr>\n",
       "      <th>22323</th>\n",
       "      <td>484500</td>\n",
       "      <td>-10</td>\n",
       "    </tr>\n",
       "    <tr>\n",
       "      <th>22324</th>\n",
       "      <td>484500</td>\n",
       "      <td>-15</td>\n",
       "    </tr>\n",
       "    <tr>\n",
       "      <th>22325</th>\n",
       "      <td>484500</td>\n",
       "      <td>-15</td>\n",
       "    </tr>\n",
       "    <tr>\n",
       "      <th>22326</th>\n",
       "      <td>485000</td>\n",
       "      <td>20</td>\n",
       "    </tr>\n",
       "    <tr>\n",
       "      <th>22327</th>\n",
       "      <td>485000</td>\n",
       "      <td>20</td>\n",
       "    </tr>\n",
       "    <tr>\n",
       "      <th>22328</th>\n",
       "      <td>485000</td>\n",
       "      <td>1</td>\n",
       "    </tr>\n",
       "    <tr>\n",
       "      <th>22329</th>\n",
       "      <td>485000</td>\n",
       "      <td>1</td>\n",
       "    </tr>\n",
       "    <tr>\n",
       "      <th>22330</th>\n",
       "      <td>485000</td>\n",
       "      <td>1</td>\n",
       "    </tr>\n",
       "    <tr>\n",
       "      <th>22331</th>\n",
       "      <td>485000</td>\n",
       "      <td>1</td>\n",
       "    </tr>\n",
       "    <tr>\n",
       "      <th>22332</th>\n",
       "      <td>484500</td>\n",
       "      <td>-1</td>\n",
       "    </tr>\n",
       "    <tr>\n",
       "      <th>22333</th>\n",
       "      <td>484500</td>\n",
       "      <td>-1</td>\n",
       "    </tr>\n",
       "    <tr>\n",
       "      <th>22334</th>\n",
       "      <td>485000</td>\n",
       "      <td>1</td>\n",
       "    </tr>\n",
       "    <tr>\n",
       "      <th>22335</th>\n",
       "      <td>485000</td>\n",
       "      <td>1</td>\n",
       "    </tr>\n",
       "    <tr>\n",
       "      <th>22336</th>\n",
       "      <td>485000</td>\n",
       "      <td>1</td>\n",
       "    </tr>\n",
       "    <tr>\n",
       "      <th>22337</th>\n",
       "      <td>485000</td>\n",
       "      <td>1</td>\n",
       "    </tr>\n",
       "    <tr>\n",
       "      <th>22338</th>\n",
       "      <td>484500</td>\n",
       "      <td>-1</td>\n",
       "    </tr>\n",
       "    <tr>\n",
       "      <th>22339</th>\n",
       "      <td>484500</td>\n",
       "      <td>-1</td>\n",
       "    </tr>\n",
       "    <tr>\n",
       "      <th>22340</th>\n",
       "      <td>484500</td>\n",
       "      <td>-2</td>\n",
       "    </tr>\n",
       "    <tr>\n",
       "      <th>22341</th>\n",
       "      <td>484500</td>\n",
       "      <td>-2</td>\n",
       "    </tr>\n",
       "    <tr>\n",
       "      <th>22342</th>\n",
       "      <td>485000</td>\n",
       "      <td>2</td>\n",
       "    </tr>\n",
       "    <tr>\n",
       "      <th>22343</th>\n",
       "      <td>485000</td>\n",
       "      <td>2</td>\n",
       "    </tr>\n",
       "    <tr>\n",
       "      <th>22344</th>\n",
       "      <td>485000</td>\n",
       "      <td>1</td>\n",
       "    </tr>\n",
       "  </tbody>\n",
       "</table>\n",
       "<p>22345 rows × 2 columns</p>\n",
       "</div>"
      ],
      "text/plain": [
       "            0    1\n",
       "0      487000  -16\n",
       "1      487000  -16\n",
       "2      487000  -16\n",
       "3      487000 -107\n",
       "4      487000 -107\n",
       "5      487000   -6\n",
       "6      487000   -6\n",
       "7      487000   -2\n",
       "8      487000   -2\n",
       "9      487000   -6\n",
       "10     487000   -6\n",
       "11     487000   -3\n",
       "12     487000   -3\n",
       "13     487000 -170\n",
       "14     487000 -170\n",
       "15     487000   -2\n",
       "16     487000   -2\n",
       "17     487000    1\n",
       "18     487000    1\n",
       "19     487000    1\n",
       "20     487000    1\n",
       "21     487000   16\n",
       "22     487000   16\n",
       "23     487000    1\n",
       "24     487000    1\n",
       "25     487000    1\n",
       "26     487000    1\n",
       "27     487000    1\n",
       "28     487000    1\n",
       "29     487000   10\n",
       "...       ...  ...\n",
       "22315  484500  -50\n",
       "22316  484500  -10\n",
       "22317  484500  -10\n",
       "22318  484500  -21\n",
       "22319  484500  -21\n",
       "22320  485000    5\n",
       "22321  485000    5\n",
       "22322  484500  -10\n",
       "22323  484500  -10\n",
       "22324  484500  -15\n",
       "22325  484500  -15\n",
       "22326  485000   20\n",
       "22327  485000   20\n",
       "22328  485000    1\n",
       "22329  485000    1\n",
       "22330  485000    1\n",
       "22331  485000    1\n",
       "22332  484500   -1\n",
       "22333  484500   -1\n",
       "22334  485000    1\n",
       "22335  485000    1\n",
       "22336  485000    1\n",
       "22337  485000    1\n",
       "22338  484500   -1\n",
       "22339  484500   -1\n",
       "22340  484500   -2\n",
       "22341  484500   -2\n",
       "22342  485000    2\n",
       "22343  485000    2\n",
       "22344  485000    1\n",
       "\n",
       "[22345 rows x 2 columns]"
      ]
     },
     "execution_count": 3,
     "metadata": {},
     "output_type": "execute_result"
    }
   ],
   "source": [
    "start = time.time()\n",
    "data = pd.read_csv(\"sise3.csv\")\n",
    "data"
   ]
  },
  {
   "cell_type": "code",
   "execution_count": 4,
   "metadata": {
    "scrolled": true
   },
   "outputs": [
    {
     "name": "stdout",
     "output_type": "stream",
     "text": [
      "61.161502838134766\n"
     ]
    }
   ],
   "source": [
    "v = 125\n",
    "n = 1000\n",
    "vpin=[]\n",
    "vol_bucket=[]\n",
    "price=[] \n",
    "\n",
    "volsum=0\n",
    "order=0\n",
    "price_bucket=0\n",
    "sellsum=0\n",
    "buysum=0\n",
    "a=0\n",
    "\n",
    "pin=0\n",
    "pin_sum=0\n",
    "price_sum=0\n",
    "\n",
    "init = len(data[\"0\"]-1)\n",
    "\n",
    "while (a<init):\n",
    "    order = data[\"1\"][a]\n",
    "    volsum+=abs(order)\n",
    "    \n",
    "    if(order<0):\n",
    "        sellsum+=volsum\n",
    "        volsum=0\n",
    "    if(order>0):\n",
    "        buysum+=volsum\n",
    "        volsum=0\n",
    "    \n",
    "    while(sellsum+buysum>=v):\n",
    "        #price_sum=abs(data[\"0\"][a])\n",
    "        if(order<0): # 매도\n",
    "            sell=v-buysum\n",
    "            pin=abs(sell-buysum)\n",
    "            vol_bucket.append([sell,buysum,pin])\n",
    "            sellsum=sellsum-sell\n",
    "            buysum=0\n",
    "            sell=0\n",
    "            if(len(vol_bucket)==n):\n",
    "                for i in range(len(vol_bucket)):\n",
    "                    pin_sum+=vol_bucket[i][1]\n",
    "                    #price_bucket+=vol_bucket[i][3]\n",
    "                price.append(abs(data[\"0\"][a]))\n",
    "                vpin.append(pin_sum/(n*v)*100)\n",
    "                pin_sum=0\n",
    "                #price_bucket=0\n",
    "                del vol_bucket[0]\n",
    "        else: # 매수\n",
    "            buy=v-sellsum\n",
    "            pin=abs(sellsum-buy)\n",
    "            vol_bucket.append([sellsum,buy,pin])\n",
    "            buysum=buysum-buy\n",
    "            sellsum=0\n",
    "            buy=0\n",
    "            if(len(vol_bucket)==n):\n",
    "                for i in range(len(vol_bucket)):\n",
    "                    pin_sum+=vol_bucket[i][1]\n",
    "                    #price_bucket+=vol_bucket[i][3]\n",
    "                price.append(abs(data[\"0\"][a]))\n",
    "                vpin.append(pin_sum/(n*v)*100)\n",
    "                pin_sum=0\n",
    "                #price_bucket=0\n",
    "                del vol_bucket[0]\n",
    "    a=a+1\n",
    "print(time.time()-start)"
   ]
  },
  {
   "cell_type": "code",
   "execution_count": 5,
   "metadata": {},
   "outputs": [],
   "source": [
    "list=[]\n",
    "for i in range(len(vpin)):\n",
    "    list.append(i)"
   ]
  },
  {
   "cell_type": "code",
   "execution_count": 6,
   "metadata": {},
   "outputs": [],
   "source": [
    "vp=pd.DataFrame(vpin, columns=[\"vpin\"])\n",
    "vp[\"price\"]=price"
   ]
  },
  {
   "cell_type": "code",
   "execution_count": 7,
   "metadata": {},
   "outputs": [],
   "source": [
    "vpin_gra=[]\n",
    "price_gra=[]\n",
    "list_gra=[]\n",
    "for i in range(len(vpin)-1):\n",
    "    vpin_gra.append(vpin[i+1]-vpin[i])\n",
    "    price_gra.append(abs(price[i+1]-price[i]))\n",
    "for i in range(len(vpin)-1):\n",
    "    list_gra.append(i)"
   ]
  },
  {
   "cell_type": "code",
   "execution_count": 7,
   "metadata": {},
   "outputs": [],
   "source": [
    "#500개 vpin 선형회귀 계산, 기울기+, vpin60이상 "
   ]
  },
  {
   "cell_type": "code",
   "execution_count": 8,
   "metadata": {
    "scrolled": false
   },
   "outputs": [
    {
     "data": {
      "image/png": "[encoded data removed]",
      "text/plain": [
       "<Figure size 1080x576 with 2 Axes>"
      ]
     },
     "metadata": {
      "needs_background": "light"
     },
     "output_type": "display_data"
    }
   ],
   "source": [
    "x=list\n",
    "y=vpin\n",
    "z=price\n",
    "plt.figure(figsize = (15,8))\n",
    "plt.subplot(2,1,1)\n",
    "plt.plot(x,y, color='blue',label='VPIN')\n",
    "plt.legend()\n",
    "plt.subplot(2,1,2)\n",
    "plt.plot(x,z, color='red', label='Price')\n",
    "plt.legend()\n",
    "plt.show()\n",
    "plt.close()"
   ]
  },
  {
   "cell_type": "code",
   "execution_count": 9,
   "metadata": {},
   "outputs": [],
   "source": [
    "X_train, X_test, y_train, y_test = train_test_split(vpin, price, test_size=0.2, random_state=9)"
   ]
  },
  {
   "cell_type": "code",
   "execution_count": 10,
   "metadata": {},
   "outputs": [],
   "source": [
    "linear_model = LinearRegression()"
   ]
  },
  {
   "cell_type": "code",
   "execution_count": 11,
   "metadata": {
    "scrolled": true
   },
   "outputs": [
    {
     "data": {
      "image/png": "[encoded data removed]",
      "text/plain": [
       "<Figure size 432x288 with 1 Axes>"
      ]
     },
     "metadata": {
      "needs_background": "light"
     },
     "output_type": "display_data"
    }
   ],
   "source": [
    "costlist=np.array([X_train, y_train]).T\n",
    "costdata=pd.DataFrame(costlist, columns=[\"vpin\", \"price\"])\n",
    "linear_model.fit(costdata[['vpin']], costdata['price'])\n",
    "X = costdata['vpin']\n",
    "y = costdata['price'] \n",
    "plt.plot(X, y, 'o')\n",
    "plt.plot(X, linear_model.predict(X.values.reshape(-1, 1)))\n",
    "plt.show()"
   ]
  },
  {
   "cell_type": "code",
   "execution_count": 12,
   "metadata": {},
   "outputs": [],
   "source": [
    "X_test=np.array(X_test).reshape(-1,1)\n",
    "y_test=np.array(y_test).reshape(-1,1)"
   ]
  },
  {
   "cell_type": "code",
   "execution_count": 13,
   "metadata": {},
   "outputs": [],
   "source": [
    "pre=linear_model.predict(X_test)"
   ]
  },
  {
   "cell_type": "code",
   "execution_count": 14,
   "metadata": {
    "scrolled": true
   },
   "outputs": [
    {
     "data": {
      "text/plain": [
       "0.6481753584050446"
      ]
     },
     "execution_count": 14,
     "metadata": {},
     "output_type": "execute_result"
    }
   ],
   "source": [
    "linear_model.score(X_test, y_test)"
   ]
  },
  {
   "cell_type": "code",
   "execution_count": 15,
   "metadata": {},
   "outputs": [],
   "source": [
    "sgd_model = SGDRegressor(max_iter = 50, # 가중치 업데이트 횟수(epoch)\n",
    "                         eta0 = 0.01, # 학습률 (learning rate)\n",
    "                         verbose = 1) # 학습 과정 확인가능"
   ]
  },
  {
   "cell_type": "code",
   "execution_count": 16,
   "metadata": {},
   "outputs": [
    {
     "name": "stdout",
     "output_type": "stream",
     "text": [
      "-- Epoch 1\n",
      "Norm: 123398279.51, NNZs: 1, Bias: 14397312776.273748, T: 992, Avg. loss: 927592491873152534577152.000000\n",
      "Total training time: 0.00 seconds.\n",
      "-- Epoch 2\n",
      "Norm: 1085461889.65, NNZs: 1, Bias: 11913611397.299061, T: 1984, Avg. loss: 40995641407881120579584.000000\n",
      "Total training time: 0.00 seconds.\n",
      "-- Epoch 3\n",
      "Norm: 278626814.38, NNZs: 1, Bias: 8645090394.359247, T: 2976, Avg. loss: 6388027931066169819136.000000\n",
      "Total training time: 0.00 seconds.\n",
      "-- Epoch 4\n",
      "Norm: 769013898.64, NNZs: 1, Bias: 8293391117.672802, T: 3968, Avg. loss: 6364001334627859955712.000000\n",
      "Total training time: 0.00 seconds.\n",
      "-- Epoch 5\n",
      "Norm: 14372280.31, NNZs: 1, Bias: 6981927239.158657, T: 4960, Avg. loss: 778387072221397254144.000000\n",
      "Total training time: 0.00 seconds.\n",
      "-- Epoch 6\n",
      "Norm: 42281734.54, NNZs: 1, Bias: 6189650029.931473, T: 5952, Avg. loss: 36110664133195747328.000000\n",
      "Total training time: 0.00 seconds.\n",
      "-- Epoch 7\n",
      "Norm: 70778277.85, NNZs: 1, Bias: 5482659136.581605, T: 6944, Avg. loss: 92835495178798497792.000000\n",
      "Total training time: 0.00 seconds.\n",
      "-- Epoch 8\n",
      "Norm: 202101613.22, NNZs: 1, Bias: 4992887777.121494, T: 7936, Avg. loss: 211799889354888249344.000000\n",
      "Total training time: 0.00 seconds.\n",
      "-- Epoch 9\n",
      "Norm: 160564990.35, NNZs: 1, Bias: 4504064283.671984, T: 8928, Avg. loss: 17589383926152990720.000000\n",
      "Total training time: 0.00 seconds.\n",
      "-- Epoch 10\n",
      "Norm: 180770508.63, NNZs: 1, Bias: 4026513906.442911, T: 9920, Avg. loss: 30555967372900024320.000000\n",
      "Total training time: 0.01 seconds.\n",
      "-- Epoch 11\n",
      "Norm: 15575067.64, NNZs: 1, Bias: 3668285292.120340, T: 10912, Avg. loss: 13713792043842052096.000000\n",
      "Total training time: 0.01 seconds.\n",
      "-- Epoch 12\n",
      "Norm: 101215967.42, NNZs: 1, Bias: 3309787755.632771, T: 11904, Avg. loss: 4878190973003689984.000000\n",
      "Total training time: 0.01 seconds.\n",
      "-- Epoch 13\n",
      "Norm: 540799.63, NNZs: 1, Bias: 2981620121.021544, T: 12896, Avg. loss: 3332539025228088320.000000\n",
      "Total training time: 0.01 seconds.\n",
      "-- Epoch 14\n",
      "Norm: 6613813.13, NNZs: 1, Bias: 2704062892.726728, T: 13888, Avg. loss: 2849245356122364416.000000\n",
      "Total training time: 0.01 seconds.\n",
      "-- Epoch 15\n",
      "Norm: 89485220.17, NNZs: 1, Bias: 2462052204.042986, T: 14880, Avg. loss: 3340314786176115200.000000\n",
      "Total training time: 0.01 seconds.\n",
      "-- Epoch 16\n",
      "Norm: 9055014.73, NNZs: 1, Bias: 2228010495.972322, T: 15872, Avg. loss: 1397643953769789696.000000\n",
      "Total training time: 0.01 seconds.\n",
      "-- Epoch 17\n",
      "Norm: 70758221.96, NNZs: 1, Bias: 2037371866.206112, T: 16864, Avg. loss: 1013341517713551104.000000\n",
      "Total training time: 0.01 seconds.\n",
      "-- Epoch 18\n",
      "Norm: 48178437.27, NNZs: 1, Bias: 1866114589.765016, T: 17856, Avg. loss: 857176778807293696.000000\n",
      "Total training time: 0.01 seconds.\n",
      "-- Epoch 19\n",
      "Norm: 53505596.06, NNZs: 1, Bias: 1709902812.692592, T: 18848, Avg. loss: 758109933202677888.000000\n",
      "Total training time: 0.01 seconds.\n",
      "-- Epoch 20\n",
      "Norm: 68392435.82, NNZs: 1, Bias: 1570895453.357056, T: 19840, Avg. loss: 510347674112448320.000000\n",
      "Total training time: 0.01 seconds.\n",
      "-- Epoch 21\n",
      "Norm: 45520458.37, NNZs: 1, Bias: 1438399616.956343, T: 20832, Avg. loss: 418231234706844160.000000\n",
      "Total training time: 0.01 seconds.\n",
      "-- Epoch 22\n",
      "Norm: 49538951.31, NNZs: 1, Bias: 1317411016.659127, T: 21824, Avg. loss: 342068008770266432.000000\n",
      "Total training time: 0.01 seconds.\n",
      "-- Epoch 23\n",
      "Norm: 34846049.77, NNZs: 1, Bias: 1208692146.556388, T: 22816, Avg. loss: 298781844063002176.000000\n",
      "Total training time: 0.01 seconds.\n",
      "-- Epoch 24\n",
      "Norm: 24778168.93, NNZs: 1, Bias: 1111269086.876401, T: 23808, Avg. loss: 260719533982462016.000000\n",
      "Total training time: 0.01 seconds.\n",
      "-- Epoch 25\n",
      "Norm: 364620.15, NNZs: 1, Bias: 1019601755.564723, T: 24800, Avg. loss: 205076129108232416.000000\n",
      "Total training time: 0.01 seconds.\n",
      "-- Epoch 26\n",
      "Norm: 32453736.47, NNZs: 1, Bias: 938578075.687208, T: 25792, Avg. loss: 151564361984938208.000000\n",
      "Total training time: 0.01 seconds.\n",
      "-- Epoch 27\n",
      "Norm: 19210458.44, NNZs: 1, Bias: 862307728.371757, T: 26784, Avg. loss: 136002587628648960.000000\n",
      "Total training time: 0.01 seconds.\n",
      "-- Epoch 28\n",
      "Norm: 22165559.22, NNZs: 1, Bias: 795119587.400281, T: 27776, Avg. loss: 116427072509620928.000000\n",
      "Total training time: 0.01 seconds.\n",
      "-- Epoch 29\n",
      "Norm: 25685322.82, NNZs: 1, Bias: 737413922.150527, T: 28768, Avg. loss: 103632686556194160.000000\n",
      "Total training time: 0.01 seconds.\n",
      "-- Epoch 30\n",
      "Norm: 8171138.13, NNZs: 1, Bias: 687648686.767125, T: 29760, Avg. loss: 82929326499725760.000000\n",
      "Total training time: 0.01 seconds.\n",
      "-- Epoch 31\n",
      "Norm: 57871.30, NNZs: 1, Bias: 636711797.816233, T: 30752, Avg. loss: 62968498582639376.000000\n",
      "Total training time: 0.02 seconds.\n",
      "-- Epoch 32\n",
      "Norm: 17366612.47, NNZs: 1, Bias: 589946162.543081, T: 31744, Avg. loss: 56968877327315280.000000\n",
      "Total training time: 0.02 seconds.\n",
      "-- Epoch 33\n",
      "Norm: 5521733.10, NNZs: 1, Bias: 544458988.376883, T: 32736, Avg. loss: 44201988922823672.000000\n",
      "Total training time: 0.02 seconds.\n",
      "-- Epoch 34\n",
      "Norm: 18057463.85, NNZs: 1, Bias: 503938166.421393, T: 33728, Avg. loss: 37733706091277360.000000\n",
      "Total training time: 0.02 seconds.\n",
      "-- Epoch 35\n",
      "Norm: 16791221.16, NNZs: 1, Bias: 468511101.013926, T: 34720, Avg. loss: 28853730947151232.000000\n",
      "Total training time: 0.02 seconds.\n",
      "-- Epoch 36\n",
      "Norm: 13424276.99, NNZs: 1, Bias: 433927314.288379, T: 35712, Avg. loss: 27064460008918096.000000\n",
      "Total training time: 0.02 seconds.\n",
      "-- Epoch 37\n",
      "Norm: 11997207.22, NNZs: 1, Bias: 402053628.655097, T: 36704, Avg. loss: 22994103439367788.000000\n",
      "Total training time: 0.03 seconds.\n",
      "-- Epoch 38\n",
      "Norm: 10149004.45, NNZs: 1, Bias: 373352328.175677, T: 37696, Avg. loss: 20407000601341292.000000\n",
      "Total training time: 0.03 seconds.\n",
      "-- Epoch 39\n",
      "Norm: 9214013.91, NNZs: 1, Bias: 348200200.350389, T: 38688, Avg. loss: 15798407330319406.000000\n",
      "Total training time: 0.03 seconds.\n",
      "-- Epoch 40\n",
      "Norm: 8219895.34, NNZs: 1, Bias: 322844172.186030, T: 39680, Avg. loss: 13867331222298406.000000\n",
      "Total training time: 0.03 seconds.\n",
      "-- Epoch 41\n",
      "Norm: 10486166.97, NNZs: 1, Bias: 300876991.880960, T: 40672, Avg. loss: 12686684013702108.000000\n",
      "Total training time: 0.03 seconds.\n",
      "-- Epoch 42\n",
      "Norm: 1535895.60, NNZs: 1, Bias: 279440342.261804, T: 41664, Avg. loss: 10447145751227938.000000\n",
      "Total training time: 0.03 seconds.\n",
      "-- Epoch 43\n",
      "Norm: 8863967.86, NNZs: 1, Bias: 259752129.829540, T: 42656, Avg. loss: 8680258087705493.000000\n",
      "Total training time: 0.04 seconds.\n",
      "-- Epoch 44\n",
      "Norm: 8816240.95, NNZs: 1, Bias: 241373545.062165, T: 43648, Avg. loss: 7418903474210656.000000\n",
      "Total training time: 0.04 seconds.\n",
      "-- Epoch 45\n",
      "Norm: 6671069.79, NNZs: 1, Bias: 224565439.097741, T: 44640, Avg. loss: 6169278293882884.000000\n",
      "Total training time: 0.04 seconds.\n",
      "-- Epoch 46\n",
      "Norm: 7597940.72, NNZs: 1, Bias: 209625104.682279, T: 45632, Avg. loss: 5848312490245970.000000\n",
      "Total training time: 0.04 seconds.\n",
      "-- Epoch 47\n",
      "Norm: 3464657.92, NNZs: 1, Bias: 195033925.249601, T: 46624, Avg. loss: 4948390089966636.000000\n",
      "Total training time: 0.04 seconds.\n",
      "-- Epoch 48\n",
      "Norm: 2119769.73, NNZs: 1, Bias: 181893062.739303, T: 47616, Avg. loss: 4002909162686108.500000\n",
      "Total training time: 0.04 seconds.\n",
      "-- Epoch 49\n",
      "Norm: 4219397.34, NNZs: 1, Bias: 169263572.482402, T: 48608, Avg. loss: 3669125517574006.500000\n",
      "Total training time: 0.04 seconds.\n",
      "-- Epoch 50\n",
      "Norm: 5734224.93, NNZs: 1, Bias: 158293043.709189, T: 49600, Avg. loss: 3156824053751749.500000\n",
      "Total training time: 0.04 seconds.\n"
     ]
    },
    {
     "name": "stderr",
     "output_type": "stream",
     "text": [
      "//anaconda3/lib/python3.7/site-packages/sklearn/linear_model/stochastic_gradient.py:1185: ConvergenceWarning: Maximum number of iteration reached before convergence. Consider increasing max_iter to improve the fit.\n",
      "  ConvergenceWarning)\n"
     ]
    },
    {
     "data": {
      "text/plain": [
       "SGDRegressor(alpha=0.0001, average=False, early_stopping=False, epsilon=0.1,\n",
       "             eta0=0.01, fit_intercept=True, l1_ratio=0.15,\n",
       "             learning_rate='invscaling', loss='squared_loss', max_iter=50,\n",
       "             n_iter_no_change=5, penalty='l2', power_t=0.25, random_state=None,\n",
       "             shuffle=True, tol=0.001, validation_fraction=0.1, verbose=1,\n",
       "             warm_start=False)"
      ]
     },
     "execution_count": 16,
     "metadata": {},
     "output_type": "execute_result"
    }
   ],
   "source": [
    "sgd_model.fit(costdata[['vpin']], costdata['price'])"
   ]
  },
  {
   "cell_type": "code",
   "execution_count": 17,
   "metadata": {},
   "outputs": [
    {
     "data": {
      "text/plain": [
       "array([1.18153489e+08])"
      ]
     },
     "execution_count": 17,
     "metadata": {},
     "output_type": "execute_result"
    }
   ],
   "source": [
    "sgd_model.predict([[7]])"
   ]
  },
  {
   "cell_type": "code",
   "execution_count": 18,
   "metadata": {},
   "outputs": [
    {
     "data": {
      "image/png": "[encoded data removed]",
      "text/plain": [
       "<Figure size 1080x576 with 2 Axes>"
      ]
     },
     "metadata": {
      "needs_background": "light"
     },
     "output_type": "display_data"
    }
   ],
   "source": [
    "x=list\n",
    "y=vpin\n",
    "z=price\n",
    "plt.figure(figsize = (15,8))\n",
    "plt.subplot(2,1,1)\n",
    "plt.plot(x,y, color='blue',label='VPIN')\n",
    "plt.legend()\n",
    "plt.subplot(2,1,2)\n",
    "plt.plot(x,z, color='red', label='Price')\n",
    "plt.legend()\n",
    "plt.show()\n",
    "plt.close()"
   ]
  },
  {
   "cell_type": "code",
   "execution_count": 19,
   "metadata": {},
   "outputs": [
    {
     "data": {
      "text/plain": [
       "60.35359999999999"
      ]
     },
     "execution_count": 19,
     "metadata": {},
     "output_type": "execute_result"
    }
   ],
   "source": [
    "max(vpin)"
   ]
  },
  {
   "cell_type": "code",
   "execution_count": 20,
   "metadata": {},
   "outputs": [
    {
     "data": {
      "text/plain": [
       "39.4512"
      ]
     },
     "execution_count": 20,
     "metadata": {},
     "output_type": "execute_result"
    }
   ],
   "source": [
    " min(vpin)"
   ]
  },
  {
   "cell_type": "code",
   "execution_count": 21,
   "metadata": {},
   "outputs": [],
   "source": [
    "#del vpin[0]\n",
    "#del list[0]\n",
    "del price[0]"
   ]
  },
  {
   "cell_type": "code",
   "execution_count": 22,
   "metadata": {
    "scrolled": false
   },
   "outputs": [
    {
     "data": {
      "image/png": "[encoded data removed]",
      "text/plain": [
       "<Figure size 1080x576 with 2 Axes>"
      ]
     },
     "metadata": {
      "needs_background": "light"
     },
     "output_type": "display_data"
    }
   ],
   "source": [
    "x=list_gra\n",
    "y=vpin_gra\n",
    "z=price\n",
    "plt.figure(figsize = (15,8))\n",
    "plt.subplot(2,1,1)\n",
    "plt.plot(x,y, color='blue',label='VPIN_GRA')\n",
    "plt.legend()\n",
    "plt.subplot(2,1,2)\n",
    "plt.plot(x,z, color='red', label='Price')\n",
    "plt.legend()\n",
    "plt.show()\n",
    "plt.close()"
   ]
  }
 ],
 "metadata": {
  "kernelspec": {
   "display_name": "Python 3",
   "language": "python",
   "name": "python3"
  },
  "language_info": {
   "codemirror_mode": {
    "name": "ipython",
    "version": 3
   },
   "file_extension": ".py",
   "mimetype": "text/x-python",
   "name": "python",
   "nbconvert_exporter": "python",
   "pygments_lexer": "ipython3",
   "version": "3.7.3"
  }
 },
 "nbformat": 4,
 "nbformat_minor": 4
}
